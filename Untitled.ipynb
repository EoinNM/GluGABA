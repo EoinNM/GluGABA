{
 "cells": [
  {
   "cell_type": "code",
   "execution_count": 1,
   "metadata": {
    "collapsed": true
   },
   "outputs": [],
   "source": [
    "import os\n",
    "from os import *\n",
    "import shutil\n",
    "import glob\n",
    "import dicom as pydcm\n",
    "from utils.utils import mkdir_path\n",
    "from distutils.dir_util import copy_tree"
   ]
  },
  {
   "cell_type": "code",
   "execution_count": 2,
   "metadata": {
    "collapsed": false
   },
   "outputs": [
    {
     "data": {
      "text/plain": [
       "'/nobackup/roggen2/Molloy/GluGABA/'"
      ]
     },
     "execution_count": 2,
     "metadata": {},
     "output_type": "execute_result"
    }
   ],
   "source": [
    "zfs = '/data/pt_nro174_mri/DATA/MRI/DATA'\n",
    "workspace = '/nobackup/roggen2/Molloy/GluGABA/'\n",
    "\n",
    "mkdir_path(workspace)"
   ]
  },
  {
   "cell_type": "code",
   "execution_count": 3,
   "metadata": {
    "collapsed": true
   },
   "outputs": [],
   "source": [
    "population = [\"AL3T\", \"UC2T\", \"BMNX\"]\n",
    "days = ['base', 'day1', 'day7']\n",
    "voxels = [\"ACC\", \"M1\", \"M1m\"]\n",
    "svs_file = [\"TWX\", \"RDA\"]\n",
    "sequence = [\"PRESS\", \"MEGA_PRESS\"]"
   ]
  },
  {
   "cell_type": "code",
   "execution_count": 5,
   "metadata": {
    "collapsed": false
   },
   "outputs": [],
   "source": [
    "def get_T1_svs(dst, subjects, scan_day, voxels, src):\n",
    "    for subject in population:\n",
    "        for day in days:\n",
    "                    subject_dir = mkdir_path(os.path.join(workspace, subject, day))\n",
    "                    #make anatomical dirs\n",
    "                    sub_T1_dcm_dir = mkdir_path(os.path.join(subject_dir, 'ANATOMICAL', day, 'ANATOMICAL_DCM'))\n",
    "                    sub_T1_nifti_dir = mkdir_path(os.path.join(subject_dir, 'ANATOMICAL', day, 'ANATOMICAL.nii'))\n",
    "                    \n",
    "                    zfs_dcm_dir = os.path.join(zfs, subject, day, 'DICOM')\n",
    "\n",
    "                #1. read all dicoms and append into list with full path, then read S.D. for T1\n",
    "\n",
    "                    if os.listdir(sub_T1_dcm_dir) is not None:\n",
    "                        all_dicoms = []\n",
    "                        for img in os.listdir(zfs_dcm_dir):\n",
    "                            img = os.path.join(zfs_dcm_dir, img)\n",
    "                            all_dicoms.append(img)\n",
    "                        \n",
    "                    mprage_dicoms = []\n",
    "                    for img in sorted(all_dicoms):\n",
    "                        series_description = pydcm.read_file(img).SeriesDescription\n",
    "                        if \"MPRAGE\" in series_description:\n",
    "                            mprage_dicoms.append(img)\n",
    "\n",
    "                    #2. copy MPRAGE dicoms to workspace\n",
    "                    for img in mprage_dicoms:\n",
    "                        shutil.copy(img, sub_T1_dcm_dir)\n",
    "                    #3. convert to .nii\n",
    "                    os.system('dcm2niix -o %s %s' %(sub_T1_nifti_dir, sub_T1_dcm_dir))\n",
    "                    #4. rename all .nii output to \"Anatomical.nii\"\n",
    "                    for nifti in os.listdir(sub_T1_nifti_dir):\n",
    "                        if nifti.endswith('nii'):\n",
    "                            os.rename(str(os.path.join(sub_T1_nifti_dir, nifti)),\n",
    "                              str(os.path.join(sub_T1_nifti_dir, 'Anatomical.nii')))"
   ]
  },
  {
   "cell_type": "code",
   "execution_count": 9,
   "metadata": {
    "collapsed": false
   },
   "outputs": [
    {
     "ename": "NameError",
     "evalue": "name 'subject' is not defined",
     "output_type": "error",
     "traceback": [
      "\u001b[0;31m---------------------------------------------------------------------------\u001b[0m",
      "\u001b[0;31mNameError\u001b[0m                                 Traceback (most recent call last)",
      "\u001b[0;32m<ipython-input-9-166f5c4945cd>\u001b[0m in \u001b[0;36m<module>\u001b[0;34m()\u001b[0m\n\u001b[1;32m      1\u001b[0m \u001b[0;32mfor\u001b[0m \u001b[0mf_type\u001b[0m \u001b[0;32min\u001b[0m \u001b[0msvs_file\u001b[0m\u001b[0;34m:\u001b[0m\u001b[0;34m\u001b[0m\u001b[0m\n\u001b[1;32m      2\u001b[0m     \u001b[0;32mfor\u001b[0m \u001b[0mvoxel\u001b[0m \u001b[0;32min\u001b[0m \u001b[0mvoxels\u001b[0m\u001b[0;34m:\u001b[0m\u001b[0;34m\u001b[0m\u001b[0m\n\u001b[0;32m----> 3\u001b[0;31m         \u001b[0mzfs_twx_dir\u001b[0m \u001b[0;34m=\u001b[0m \u001b[0mos\u001b[0m\u001b[0;34m.\u001b[0m\u001b[0mpath\u001b[0m\u001b[0;34m.\u001b[0m\u001b[0mjoin\u001b[0m\u001b[0;34m(\u001b[0m\u001b[0mzfs\u001b[0m\u001b[0;34m,\u001b[0m \u001b[0msubject\u001b[0m\u001b[0;34m,\u001b[0m \u001b[0mday\u001b[0m\u001b[0;34m,\u001b[0m \u001b[0;34m'SVS'\u001b[0m\u001b[0;34m)\u001b[0m\u001b[0;34m\u001b[0m\u001b[0m\n\u001b[0m\u001b[1;32m      4\u001b[0m         \u001b[0msubject_dir\u001b[0m \u001b[0;34m=\u001b[0m \u001b[0mmkdir_path\u001b[0m\u001b[0;34m(\u001b[0m\u001b[0mos\u001b[0m\u001b[0;34m.\u001b[0m\u001b[0mpath\u001b[0m\u001b[0;34m.\u001b[0m\u001b[0mjoin\u001b[0m\u001b[0;34m(\u001b[0m\u001b[0mworkspace\u001b[0m\u001b[0;34m,\u001b[0m \u001b[0msubject\u001b[0m\u001b[0;34m,\u001b[0m \u001b[0mday\u001b[0m\u001b[0;34m)\u001b[0m\u001b[0;34m)\u001b[0m\u001b[0;34m\u001b[0m\u001b[0m\n\u001b[1;32m      5\u001b[0m \u001b[0;34m\u001b[0m\u001b[0m\n",
      "\u001b[0;31mNameError\u001b[0m: name 'subject' is not defined"
     ]
    }
   ],
   "source": [
    "for f_type in svs_file:\n",
    "    for voxel in voxels:\n",
    "        zfs_twx_dir = os.path.join(zfs, subject, day, 'SVS')\n",
    "        subject_dir = mkdir_path(os.path.join(workspace, subject, day))\n",
    "                        \n",
    "        twx_met_src = os.path.join(zfs_twx_dir, voxel, 'TWIX', voxel)\n",
    "        twx_h20_src = os.path.join(zfs_twx_dir, voxel, 'TWIX', '%s_w'%voxel)\n",
    "                    \n",
    "        twx_met_dst = mkdir_path(os.path.join(subject_dir, 'SVS', voxel, 'TWIX', voxel))\n",
    "        twx_h20_dst = mkdir_path(os.path.join(subject_dir, 'SVS', voxel, 'TWIX', '%s_w'%voxel))\n",
    "                    \n",
    "                    \n",
    "        copy_tree(twx_met_src, twx_met_dst)\n",
    "        copy_tree(twx_h20_src, twx_h20_dst)"
   ]
  },
  {
   "cell_type": "code",
   "execution_count": null,
   "metadata": {
    "collapsed": true
   },
   "outputs": [],
   "source": []
  }
 ],
 "metadata": {
  "kernelspec": {
   "display_name": "Python 2",
   "language": "python",
   "name": "python2"
  },
  "language_info": {
   "codemirror_mode": {
    "name": "ipython",
    "version": 2
   },
   "file_extension": ".py",
   "mimetype": "text/x-python",
   "name": "python",
   "nbconvert_exporter": "python",
   "pygments_lexer": "ipython2",
   "version": "2.7.13"
  }
 },
 "nbformat": 4,
 "nbformat_minor": 2
}
